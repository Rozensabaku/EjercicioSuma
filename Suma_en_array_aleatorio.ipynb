{
  "nbformat": 4,
  "nbformat_minor": 0,
  "metadata": {
    "colab": {
      "name": "Suma en array aleatorio",
      "provenance": [],
      "collapsed_sections": [],
      "authorship_tag": "ABX9TyOz/XWJdevQ60j4zRRU188q",
      "include_colab_link": true
    },
    "kernelspec": {
      "name": "python3",
      "display_name": "Python 3"
    },
    "language_info": {
      "name": "python"
    }
  },
  "cells": [
    {
      "cell_type": "markdown",
      "metadata": {
        "id": "view-in-github",
        "colab_type": "text"
      },
      "source": [
        "<a href=\"https://colab.research.google.com/github/Rozensabaku/EjercicioSuma/blob/main/Suma_en_array_aleatorio.ipynb\" target=\"_parent\"><img src=\"https://colab.research.google.com/assets/colab-badge.svg\" alt=\"Open In Colab\"/></a>"
      ]
    },
    {
      "cell_type": "code",
      "source": [
        "from numpy import random\n",
        "\n",
        "x=random.randint(1000, size=(50))\n",
        "\n",
        "\n",
        "print(x)\n",
        "\n",
        "\n",
        "print(sum(x))\n"
      ],
      "metadata": {
        "colab": {
          "base_uri": "https://localhost:8080/"
        },
        "id": "fLG0806fSOuY",
        "outputId": "95018be4-f6e9-417c-fbda-ccf73abe47e9"
      },
      "execution_count": 3,
      "outputs": [
        {
          "output_type": "stream",
          "name": "stdout",
          "text": [
            "[431 480 395 460 330 358 328 826 455 936 474 738  33 311 654 591 976 783\n",
            " 282 636 821 342  98 147 936 573 140 249 788 300 655 471 527 680 685 220\n",
            " 771 645 155 981 575 820 606 629 599 112 659 622 890 146]\n",
            "26319\n"
          ]
        }
      ]
    }
  ]
}